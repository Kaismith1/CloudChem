{
 "cells": [
  {
   "cell_type": "code",
   "execution_count": 1,
   "id": "b6cb7e9c-0ec9-4429-bf0a-e493a8cb2d6c",
   "metadata": {},
   "outputs": [
    {
     "name": "stderr",
     "output_type": "stream",
     "text": [
      "OMP: Warning #182: GOMP_STACKSIZE: ignored because KMP_STACKSIZE has been defined\n",
      "OMP: Warning #182: OMP_STACKSIZE: ignored because KMP_STACKSIZE has been defined\n"
     ]
    }
   ],
   "source": [
    "import numpy as np                          # I use this for maths and sometimes arrays.\n",
    "                                            # \"np\" is just an abbreviation since we call this package so often!\n",
    "import pylab                                # I use this for arrays and plotting\n",
    "import matplotlib                           # Another plotting package\n",
    "import matplotlib.gridspec as gridspec      # If there is a task you use a lot, importing it like this \n",
    "                                            # keeps you from having to constantly type \"matplotlib.gridspec\"\n",
    "                                            # every time you call that task!\n",
    "import scipy\n",
    "\n",
    "import astropy.io.fits as fits              # I use this to import FITS images. \n",
    "                                            # Astropy should be included in your conda installation\n",
    "from astropy.wcs import WCS                 # This one helps us add coordinates to images\n",
    "from astropy import units as u              # This one helps with unit conversion\n",
    "\n",
    "import regions\n",
    "\n",
    "import pyspeckit as psk                     # I use this to do spectral line fitting\n",
    "                                            # You probably don't have it installed; \n",
    "                                            # to install, type 'pip install pyspeckit' in a terminal window\n",
    "        \n",
    "from spectral_cube import SpectralCube      # This is a handy package for working with 3D data cubes\n",
    "\n",
    "from reproject import reproject_interp      # Reproject is another useful package you should install\n",
    "from reproject.mosaicking import find_optimal_celestial_wcs \n",
    "\n",
    "\n",
    "                                            # Suppress warnings we don't care about:\n",
    "import sys\n",
    "if not sys.warnoptions:\n",
    "    import warnings\n",
    "    warnings.simplefilter(\"ignore\")\n",
    "\n",
    "                                            # Super important!! \n",
    "                                            # This embeds plots in the Jupyter window \n",
    "                                            # (instead of showing them as pop-ups)\n",
    "%matplotlib inline                             \n",
    "\n",
    "matplotlib.rc('font', family='sans-serif')  # Set plot fonts\n",
    "#matplotlib.rc('text', usetex=True)      \n",
    "matplotlib.rc('text', usetex=False)        # This is a quick fix if you don't have latex on your computer\n"
   ]
  },
  {
   "cell_type": "code",
   "execution_count": 16,
   "id": "1fb702e2-e066-439f-b988-3917dcf241a8",
   "metadata": {
    "tags": []
   },
   "outputs": [
    {
     "name": "stdout",
     "output_type": "stream",
     "text": [
      "97.0411674743 GHz\n",
      "98.91234923017122 GHz\n",
      "1917\n"
     ]
    }
   ],
   "source": [
    "#path to desired header from fits file \n",
    "path = 'A.Dust_Ridge_sci.spw29.cube.I.pbcor.fits'\n",
    "#not nessisary but lets you acces and modify array data \n",
    "image = fits.getdata(path) \n",
    "#gives access to the header \n",
    "header= fits.getheader(path)\n",
    "#retrieving beam posistion angle (if not found prints No_Data)\n",
    "BPA= header.get('BPA', 'No Data')\n",
    "#retrieving BMAJ\n",
    "BMAJ= header.get('BMAJ', 'No Data')\n",
    "BMIN= header.get('BMIN', 'No Data')\n",
    "#Remember NAXIS is number od data axes N1= number of pixels on x axism N2= pixels on y axis N3=channels \n",
    "Channels= header.get('NAXIS3', 'No Data')\n",
    "#getting spectra is harder use starting channel: 1 subtract CRPIX3(reference pixel) then multiply by CDELT3(incriment per pixel)\n",
    "CRVAL3=header.get('CRVAL3', 'No Data')\n",
    "CDELT3= header.get('CDELT3', 'No Data')\n",
    "CRPIX3= header.get('CRPIX3', 'No Data')\n",
    "#include channels in calculation as used to give max and min ranges \n",
    "#frequency min in GHz\n",
    "Freqmin= F\"{(CRVAL3 + (1-CRPIX3)* CDELT3)/(1*10**9)} GHz\"\n",
    "#frequency max in GHz\n",
    "Freqmax= F\"{(CRVAL3 + (Channels-CRPIX3)* CDELT3)/(1*10**9)} GHz\"\n",
    "print(Freqmin)\n",
    "print(Freqmax)\n",
    "print(Channels)\n",
    "\n"
   ]
  },
  {
   "cell_type": "code",
   "execution_count": null,
   "id": "2baf1cb5-7197-40be-94aa-57e2cefc723d",
   "metadata": {},
   "outputs": [],
   "source": []
  }
 ],
 "metadata": {
  "kernelspec": {
   "display_name": "Python 3 (ipykernel)",
   "language": "python",
   "name": "python3"
  },
  "language_info": {
   "codemirror_mode": {
    "name": "ipython",
    "version": 3
   },
   "file_extension": ".py",
   "mimetype": "text/x-python",
   "name": "python",
   "nbconvert_exporter": "python",
   "pygments_lexer": "ipython3",
   "version": "3.11.5"
  }
 },
 "nbformat": 4,
 "nbformat_minor": 5
}
